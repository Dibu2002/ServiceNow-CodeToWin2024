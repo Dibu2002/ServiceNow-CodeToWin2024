{
 "cells": [
  {
   "cell_type": "code",
   "execution_count": null,
   "metadata": {},
   "outputs": [],
   "source": [
    "!python3 detect.py --source image4.jpg --weights best_mine4.pt --name video_1 --view-img"
   ]
  },
  {
   "cell_type": "code",
   "execution_count": 46,
   "metadata": {},
   "outputs": [
    {
     "name": "stdout",
     "output_type": "stream",
     "text": [
      "Namespace(weights=['best.pt'], data='data/traffic.yaml', batch_size=32, img_size=640, conf_thres=0.001, iou_thres=0.65, task='test', device='', single_cls=False, augment=False, verbose=False, save_txt=False, save_hybrid=False, save_conf=False, save_json=False, project='runs/test', name='exp', exist_ok=False, no_trace=False, v5_metric=False)\n",
      "YOLOR 🚀 2024-3-2 torch 2.2.1 CPU\n",
      "\n",
      "Fusing layers... \n",
      "IDetect.fuse\n",
      "/Library/Frameworks/Python.framework/Versions/3.11/lib/python3.11/site-packages/torch/functional.py:507: UserWarning: torch.meshgrid: in an upcoming release, it will be required to pass the indexing argument. (Triggered internally at /Users/runner/work/pytorch/pytorch/pytorch/aten/src/ATen/native/TensorShape.cpp:3550.)\n",
      "  return _VF.meshgrid(tensors, **kwargs)  # type: ignore[attr-defined]\n",
      "Model Summary: 208 layers, 6061716 parameters, 0 gradients, 13.2 GFLOPS\n",
      " Convert model to Traced-model... \n",
      " traced_script_module saved! \n",
      " model is traced! \n",
      "\n",
      "\u001b[34m\u001b[1mtest: \u001b[0mScanning 'traffic_dataset/labels/test' images and labels... 301 found, 0 m\u001b[0m\n",
      "\u001b[34m\u001b[1mtest: \u001b[0mNew cache created: traffic_dataset/labels/test.cache\n",
      "               Class      Images      Labels           P           R      mAP@.5\n",
      "                 all         301        2131       0.623       0.313       0.306        0.17\n",
      "        army vehicle         301           2           1           0      0.0569      0.0472\n",
      "             bicycle         301          31       0.252        0.29       0.171      0.0394\n",
      "                 bus         301         229       0.684       0.689       0.721       0.451\n",
      "                 car         301         534        0.55       0.833       0.734       0.468\n",
      "          garbagevan         301           1           1           0           0           0\n",
      "        human hauler         301          18       0.485      0.0556      0.0841      0.0561\n",
      "             minibus         301           8           0           0       0.021     0.00825\n",
      "             minivan         301          78       0.211       0.309       0.157      0.0963\n",
      "           motorbike         301         225       0.694       0.587       0.607       0.216\n",
      "              pickup         301          65       0.426         0.4       0.394       0.245\n",
      "           policecar         301           4           1           0     0.00282     0.00161\n",
      "            rickshaw         301         270       0.686       0.585       0.601       0.301\n",
      "                 suv         301         146       0.405       0.397       0.346       0.237\n",
      "                taxi         301           4           1           0      0.0173      0.0137\n",
      "three wheelers -CNG-         301         307       0.774       0.707       0.748       0.438\n",
      "               truck         301         121       0.748       0.612       0.668       0.326\n",
      "                 van         301          76       0.297       0.171       0.141       0.102\n",
      "         wheelbarrow         301          12           1           0      0.0389      0.0186\n",
      "Speed: 212.1/1.9/214.0 ms inference/NMS/total per 640x640 image at batch-size 32\n",
      "Results saved to runs/test/exp9\n"
     ]
    }
   ],
   "source": [
    "!python3 test.py --weights best.pt --task test --data data/traffic.yaml"
   ]
  },
  {
   "cell_type": "code",
   "execution_count": 49,
   "metadata": {},
   "outputs": [
    {
     "name": "stdout",
     "output_type": "stream",
     "text": [
      "Namespace(weights=['yolov7-tiny.pt'], data='data/coco.yaml', batch_size=32, img_size=640, conf_thres=0.001, iou_thres=0.65, task='test', device='', single_cls=False, augment=False, verbose=False, save_txt=False, save_hybrid=False, save_conf=False, save_json=True, project='runs/test', name='exp', exist_ok=False, no_trace=False, v5_metric=False)\n",
      "YOLOR 🚀 2024-3-2 torch 2.2.1 CPU\n",
      "\n",
      "Fusing layers... \n",
      "/Library/Frameworks/Python.framework/Versions/3.11/lib/python3.11/site-packages/torch/functional.py:507: UserWarning: torch.meshgrid: in an upcoming release, it will be required to pass the indexing argument. (Triggered internally at /Users/runner/work/pytorch/pytorch/pytorch/aten/src/ATen/native/TensorShape.cpp:3550.)\n",
      "  return _VF.meshgrid(tensors, **kwargs)  # type: ignore[attr-defined]\n",
      "Model Summary: 200 layers, 6219709 parameters, 6219709 gradients, 13.7 GFLOPS\n",
      " Convert model to Traced-model... \n",
      "/Library/Frameworks/Python.framework/Versions/3.11/lib/python3.11/site-packages/torch/nn/modules/module.py:836: UserWarning: The .grad attribute of a Tensor that is not a leaf Tensor is being accessed. Its .grad attribute won't be populated during autograd.backward(). If you indeed want the .grad field to be populated for a non-leaf Tensor, use .retain_grad() on the non-leaf Tensor. If you access the non-leaf Tensor by mistake, make sure you access the leaf Tensor instead. See github.com/pytorch/pytorch/pull/30531 for more informations. (Triggered internally at /Users/runner/work/pytorch/pytorch/pytorch/build/aten/src/ATen/core/TensorBody.h:494.)\n",
      "  if param.grad is not None:\n",
      " traced_script_module saved! \n",
      " model is traced! \n",
      "\n",
      "\u001b[34m\u001b[1mtest: \u001b[0mScanning 'traffic_dataset/labels/test.cache' images and labels... 301 foun\u001b[0m\n",
      "               Class      Images      Labels           P           R      mAP@.5\n",
      "                 all         301        2131      0.0083       0.113     0.00232    0.000783\n",
      "Speed: 226.0/7.8/233.8 ms inference/NMS/total per 640x640 image at batch-size 32\n",
      "\n",
      "Evaluating pycocotools mAP... saving runs/test/exp11/yolov7-tiny_predictions.json...\n",
      "pycocotools unable to run: No module named 'pycocotools'\n",
      "/Library/Frameworks/Python.framework/Versions/3.11/lib/python3.11/site-packages/torch/nn/modules/module.py:836: UserWarning: The .grad attribute of a Tensor that is not a leaf Tensor is being accessed. Its .grad attribute won't be populated during autograd.backward(). If you indeed want the .grad field to be populated for a non-leaf Tensor, use .retain_grad() on the non-leaf Tensor. If you access the non-leaf Tensor by mistake, make sure you access the leaf Tensor instead. See github.com/pytorch/pytorch/pull/30531 for more informations. (Triggered internally at /Users/runner/work/pytorch/pytorch/pytorch/build/aten/src/ATen/core/TensorBody.h:494.)\n",
      "  if param.grad is not None:\n",
      "Results saved to runs/test/exp11\n"
     ]
    }
   ],
   "source": [
    "!python3 test.py --weights yolov7-tiny.pt --task test --data data/coco.yaml"
   ]
  },
  {
   "cell_type": "code",
   "execution_count": 51,
   "metadata": {},
   "outputs": [
    {
     "name": "stdout",
     "output_type": "stream",
     "text": [
      "Namespace(weights=['last.pt'], data='data/traffic.yaml', batch_size=32, img_size=640, conf_thres=0.001, iou_thres=0.65, task='test', device='', single_cls=False, augment=False, verbose=False, save_txt=False, save_hybrid=False, save_conf=False, save_json=False, project='runs/test', name='exp', exist_ok=False, no_trace=False, v5_metric=False)\n",
      "YOLOR 🚀 2024-3-2 torch 2.2.1 CPU\n",
      "\n",
      "Fusing layers... \n",
      "IDetect.fuse\n",
      "/Library/Frameworks/Python.framework/Versions/3.11/lib/python3.11/site-packages/torch/functional.py:507: UserWarning: torch.meshgrid: in an upcoming release, it will be required to pass the indexing argument. (Triggered internally at /Users/runner/work/pytorch/pytorch/pytorch/aten/src/ATen/native/TensorShape.cpp:3550.)\n",
      "  return _VF.meshgrid(tensors, **kwargs)  # type: ignore[attr-defined]\n",
      "Model Summary: 208 layers, 6061716 parameters, 0 gradients, 13.2 GFLOPS\n",
      " Convert model to Traced-model... \n",
      " traced_script_module saved! \n",
      " model is traced! \n",
      "\n",
      "\u001b[34m\u001b[1mtest: \u001b[0mScanning 'traffic_dataset/labels/test.cache' images and labels... 301 foun\u001b[0m\n",
      "               Class      Images      Labels           P           R      mAP@.5\n",
      "                 all         301        2131       0.544       0.327       0.304        0.17\n",
      "        army vehicle         301           2           1           0       0.051      0.0427\n",
      "             bicycle         301          31       0.232       0.254       0.176      0.0404\n",
      "                 bus         301         229       0.645       0.703       0.716       0.458\n",
      "                 car         301         534       0.524       0.854       0.733       0.469\n",
      "          garbagevan         301           1           1           0           0           0\n",
      "        human hauler         301          18       0.377      0.0556      0.0855      0.0514\n",
      "             minibus         301           8           0           0      0.0265      0.0123\n",
      "             minivan         301          78       0.225       0.359        0.16       0.098\n",
      "           motorbike         301         225       0.626       0.591       0.564       0.198\n",
      "              pickup         301          65       0.384       0.462         0.4       0.248\n",
      "           policecar         301           4           1           0     0.00276     0.00149\n",
      "            rickshaw         301         270       0.639         0.6       0.603       0.301\n",
      "                 suv         301         146       0.384       0.445       0.346       0.239\n",
      "                taxi         301           4           1           0      0.0166      0.0131\n",
      "three wheelers -CNG-         301         307       0.759        0.73       0.752        0.44\n",
      "               truck         301         121       0.704       0.653       0.668       0.328\n",
      "                 van         301          76       0.285       0.184       0.133      0.0995\n",
      "         wheelbarrow         301          12           0           0       0.033      0.0144\n",
      "Speed: 211.6/2.1/213.7 ms inference/NMS/total per 640x640 image at batch-size 32\n",
      "Results saved to runs/test/exp\n"
     ]
    }
   ],
   "source": [
    "!python3 test.py --weights last.pt --task test --data data/traffic.yaml"
   ]
  },
  {
   "cell_type": "code",
   "execution_count": 60,
   "metadata": {},
   "outputs": [
    {
     "name": "stdout",
     "output_type": "stream",
     "text": [
      "Namespace(weights=['best_mine2.pt'], data='data/traffic.yaml', batch_size=32, img_size=640, conf_thres=0.001, iou_thres=0.65, task='test', device='', single_cls=False, augment=False, verbose=False, save_txt=False, save_hybrid=False, save_conf=False, save_json=False, project='runs/test', name='exp', exist_ok=False, no_trace=False, v5_metric=False)\n",
      "YOLOR 🚀 2024-3-2 torch 2.2.1 CPU\n",
      "\n",
      "Fusing layers... \n",
      "IDetect.fuse\n",
      "/Library/Frameworks/Python.framework/Versions/3.11/lib/python3.11/site-packages/torch/functional.py:507: UserWarning: torch.meshgrid: in an upcoming release, it will be required to pass the indexing argument. (Triggered internally at /Users/runner/work/pytorch/pytorch/pytorch/aten/src/ATen/native/TensorShape.cpp:3550.)\n",
      "  return _VF.meshgrid(tensors, **kwargs)  # type: ignore[attr-defined]\n",
      "Model Summary: 208 layers, 6061716 parameters, 0 gradients, 13.2 GFLOPS\n",
      " Convert model to Traced-model... \n",
      " traced_script_module saved! \n",
      " model is traced! \n",
      "\n",
      "\u001b[34m\u001b[1mtest: \u001b[0mScanning 'traffic_dataset/labels/test.cache' images and labels... 301 foun\u001b[0m\n",
      "               Class      Images      Labels           P           R      mAP@.5\n",
      "                 all         301        2131       0.699       0.494       0.531       0.346\n",
      "        army vehicle         301           2           1           0       0.828       0.746\n",
      "             bicycle         301          31       0.524       0.516       0.465        0.21\n",
      "                 bus         301         229       0.773       0.821       0.844       0.562\n",
      "                 car         301         534       0.621        0.91       0.886        0.61\n",
      "          garbagevan         301           1           1           0     0.00485     0.00388\n",
      "        human hauler         301          18       0.739       0.159       0.233       0.186\n",
      "             minibus         301           8       0.732       0.375       0.429       0.204\n",
      "             minivan         301          78       0.357       0.667       0.385       0.251\n",
      "           motorbike         301         225       0.782       0.729       0.774       0.404\n",
      "              pickup         301          65       0.594       0.723       0.682       0.455\n",
      "           policecar         301           4           1           0      0.0203      0.0159\n",
      "            rickshaw         301         270       0.726       0.693       0.765       0.426\n",
      "                 suv         301         146       0.436       0.678       0.648       0.471\n",
      "                taxi         301           4           1           0      0.0279      0.0194\n",
      "three wheelers -CNG-         301         307       0.773       0.797        0.84       0.514\n",
      "               truck         301         121        0.67       0.851       0.831       0.489\n",
      "                 van         301          76       0.423        0.56         0.5       0.382\n",
      "         wheelbarrow         301          12       0.438       0.417       0.386       0.276\n",
      "Speed: 208.1/1.6/209.7 ms inference/NMS/total per 640x640 image at batch-size 32\n",
      "Results saved to runs/test/exp12\n"
     ]
    }
   ],
   "source": [
    "!python3 test.py --weights best_mine2.pt --task test --data data/traffic.yaml"
   ]
  },
  {
   "cell_type": "code",
   "execution_count": 66,
   "metadata": {},
   "outputs": [
    {
     "name": "stdout",
     "output_type": "stream",
     "text": [
      "Namespace(weights=['best_mine3.pt'], data='data/traffic.yaml', batch_size=32, img_size=640, conf_thres=0.001, iou_thres=0.65, task='test', device='', single_cls=False, augment=False, verbose=False, save_txt=False, save_hybrid=False, save_conf=False, save_json=False, project='runs/test', name='exp', exist_ok=False, no_trace=False, v5_metric=False)\n",
      "YOLOR 🚀 2024-3-2 torch 2.2.1 CPU\n",
      "\n",
      "Fusing layers... \n",
      "IDetect.fuse\n",
      "/Library/Frameworks/Python.framework/Versions/3.11/lib/python3.11/site-packages/torch/functional.py:507: UserWarning: torch.meshgrid: in an upcoming release, it will be required to pass the indexing argument. (Triggered internally at /Users/runner/work/pytorch/pytorch/pytorch/aten/src/ATen/native/TensorShape.cpp:3550.)\n",
      "  return _VF.meshgrid(tensors, **kwargs)  # type: ignore[attr-defined]\n",
      "Model Summary: 208 layers, 6061716 parameters, 0 gradients, 13.2 GFLOPS\n",
      " Convert model to Traced-model... \n",
      " traced_script_module saved! \n",
      " model is traced! \n",
      "\n",
      "\u001b[34m\u001b[1mtest: \u001b[0mScanning 'traffic_dataset/labels/test.cache' images and labels... 301 foun\u001b[0m\n",
      "               Class      Images      Labels           P           R      mAP@.5\n",
      "                 all         301        2131       0.798       0.535        0.58        0.38\n",
      "        army vehicle         301           2        0.93           1       0.995       0.721\n",
      "             bicycle         301          31         0.7       0.452       0.516       0.277\n",
      "                 bus         301         229       0.897       0.699       0.806       0.558\n",
      "                 car         301         534       0.769       0.901       0.901        0.63\n",
      "          garbagevan         301           1           1           0           0           0\n",
      "        human hauler         301          18       0.847       0.167       0.349       0.243\n",
      "             minibus         301           8       0.623       0.375       0.444       0.199\n",
      "             minivan         301          78       0.452       0.551       0.545       0.389\n",
      "           motorbike         301         225        0.82       0.751       0.796       0.431\n",
      "              pickup         301          65       0.703       0.815       0.803       0.521\n",
      "           policecar         301           4           1           0     0.00327     0.00273\n",
      "            rickshaw         301         270       0.807       0.644       0.775       0.432\n",
      "                 suv         301         146       0.728       0.705       0.768       0.585\n",
      "                taxi         301           4           1           0     0.00653     0.00423\n",
      "three wheelers -CNG-         301         307       0.869       0.739       0.821       0.519\n",
      "               truck         301         121       0.809       0.793       0.848       0.512\n",
      "                 van         301          76       0.582       0.618       0.629       0.481\n",
      "         wheelbarrow         301          12       0.824       0.417       0.435       0.332\n",
      "Speed: 386.0/3.0/389.0 ms inference/NMS/total per 640x640 image at batch-size 32\n",
      "Results saved to runs/test/exp14\n"
     ]
    }
   ],
   "source": [
    "!python3 test.py --weights best_mine3.pt --task test --data data/traffic.yaml\n"
   ]
  },
  {
   "cell_type": "code",
   "execution_count": 69,
   "metadata": {},
   "outputs": [
    {
     "name": "stdout",
     "output_type": "stream",
     "text": [
      "Namespace(weights=['best_mine4.pt'], data='data/traffic.yaml', batch_size=32, img_size=640, conf_thres=0.001, iou_thres=0.65, task='test', device='', single_cls=False, augment=False, verbose=False, save_txt=False, save_hybrid=False, save_conf=False, save_json=False, project='runs/test', name='exp', exist_ok=False, no_trace=False, v5_metric=False)\n",
      "YOLOR 🚀 2024-3-2 torch 2.2.1 CPU\n",
      "\n",
      "Fusing layers... \n",
      "IDetect.fuse\n",
      "/Library/Frameworks/Python.framework/Versions/3.11/lib/python3.11/site-packages/torch/functional.py:507: UserWarning: torch.meshgrid: in an upcoming release, it will be required to pass the indexing argument. (Triggered internally at /Users/runner/work/pytorch/pytorch/pytorch/aten/src/ATen/native/TensorShape.cpp:3550.)\n",
      "  return _VF.meshgrid(tensors, **kwargs)  # type: ignore[attr-defined]\n",
      "Model Summary: 208 layers, 6061716 parameters, 0 gradients, 13.2 GFLOPS\n",
      " Convert model to Traced-model... \n",
      " traced_script_module saved! \n",
      " model is traced! \n",
      "\n",
      "\u001b[34m\u001b[1mtest: \u001b[0mScanning 'traffic_dataset/labels/test.cache' images and labels... 301 foun\u001b[0m\n",
      "               Class      Images      Labels           P           R      mAP@.5\n",
      "                 all         301        2131       0.866       0.545       0.641       0.441\n",
      "        army vehicle         301           2       0.845           1       0.995       0.995\n",
      "             bicycle         301          31       0.818       0.581       0.656       0.325\n",
      "                 bus         301         229       0.938       0.721       0.857       0.618\n",
      "                 car         301         534       0.862       0.877       0.922       0.666\n",
      "          garbagevan         301           1           1           0           0           0\n",
      "        human hauler         301          18       0.801       0.224       0.399       0.282\n",
      "             minibus         301           8        0.57       0.498       0.498       0.277\n",
      "             minivan         301          78       0.639       0.603       0.687       0.465\n",
      "           motorbike         301         225       0.894       0.738       0.822       0.435\n",
      "              pickup         301          65       0.931       0.677       0.818       0.577\n",
      "           policecar         301           4           1           0       0.049      0.0441\n",
      "            rickshaw         301         270       0.848       0.674       0.788       0.428\n",
      "                 suv         301         146       0.851       0.705       0.808         0.6\n",
      "                taxi         301           4           1           0       0.266       0.211\n",
      "three wheelers -CNG-         301         307       0.922       0.735       0.848       0.549\n",
      "               truck         301         121       0.856       0.735       0.862       0.536\n",
      "                 van         301          76       0.821       0.632       0.743       0.581\n",
      "         wheelbarrow         301          12           1        0.41       0.516       0.342\n",
      "Speed: 221.1/1.2/222.3 ms inference/NMS/total per 640x640 image at batch-size 32\n",
      "Results saved to runs/test/exp15\n"
     ]
    }
   ],
   "source": [
    "!python3 test.py --weights best_mine4.pt --task test --data data/traffic.yaml"
   ]
  },
  {
   "cell_type": "code",
   "execution_count": 70,
   "metadata": {},
   "outputs": [
    {
     "name": "stdout",
     "output_type": "stream",
     "text": [
      "Namespace(weights=['best_mine5.pt'], data='data/traffic.yaml', batch_size=32, img_size=640, conf_thres=0.001, iou_thres=0.65, task='test', device='', single_cls=False, augment=False, verbose=False, save_txt=False, save_hybrid=False, save_conf=False, save_json=False, project='runs/test', name='exp', exist_ok=False, no_trace=False, v5_metric=False)\n",
      "YOLOR 🚀 2024-3-2 torch 2.2.1 CPU\n",
      "\n",
      "Fusing layers... \n",
      "IDetect.fuse\n",
      "/Library/Frameworks/Python.framework/Versions/3.11/lib/python3.11/site-packages/torch/functional.py:507: UserWarning: torch.meshgrid: in an upcoming release, it will be required to pass the indexing argument. (Triggered internally at /Users/runner/work/pytorch/pytorch/pytorch/aten/src/ATen/native/TensorShape.cpp:3550.)\n",
      "  return _VF.meshgrid(tensors, **kwargs)  # type: ignore[attr-defined]\n",
      "Model Summary: 208 layers, 6061716 parameters, 0 gradients, 13.2 GFLOPS\n",
      " Convert model to Traced-model... \n",
      " traced_script_module saved! \n",
      " model is traced! \n",
      "\n",
      "\u001b[34m\u001b[1mtest: \u001b[0mScanning 'traffic_dataset/labels/test.cache' images and labels... 301 foun\u001b[0m\n",
      "               Class      Images      Labels           P           R      mAP@.5\n",
      "                 all         301        2131       0.866       0.545       0.641       0.441\n",
      "        army vehicle         301           2       0.845           1       0.995       0.995\n",
      "             bicycle         301          31       0.818       0.581       0.656       0.325\n",
      "                 bus         301         229       0.938       0.721       0.857       0.618\n",
      "                 car         301         534       0.862       0.877       0.922       0.666\n",
      "          garbagevan         301           1           1           0           0           0\n",
      "        human hauler         301          18       0.801       0.224       0.399       0.282\n",
      "             minibus         301           8        0.57       0.498       0.498       0.277\n",
      "             minivan         301          78       0.639       0.603       0.687       0.465\n",
      "           motorbike         301         225       0.894       0.738       0.822       0.435\n",
      "              pickup         301          65       0.931       0.677       0.818       0.577\n",
      "           policecar         301           4           1           0       0.049      0.0441\n",
      "            rickshaw         301         270       0.848       0.674       0.788       0.428\n",
      "                 suv         301         146       0.851       0.705       0.808         0.6\n",
      "                taxi         301           4           1           0       0.266       0.211\n",
      "three wheelers -CNG-         301         307       0.922       0.735       0.848       0.549\n",
      "               truck         301         121       0.856       0.735       0.862       0.536\n",
      "                 van         301          76       0.821       0.632       0.743       0.581\n",
      "         wheelbarrow         301          12           1        0.41       0.516       0.342\n",
      "Speed: 158.3/0.7/159.0 ms inference/NMS/total per 640x640 image at batch-size 32\n",
      "Results saved to runs/test/exp16\n"
     ]
    }
   ],
   "source": [
    "!python3 test.py --weights best_mine5.pt --task test --data data/traffic.yaml"
   ]
  },
  {
   "cell_type": "code",
   "execution_count": 71,
   "metadata": {},
   "outputs": [
    {
     "name": "stdout",
     "output_type": "stream",
     "text": [
      "Namespace(weights=['epoch_099.pt'], data='data/traffic.yaml', batch_size=32, img_size=640, conf_thres=0.001, iou_thres=0.65, task='test', device='', single_cls=False, augment=False, verbose=False, save_txt=False, save_hybrid=False, save_conf=False, save_json=False, project='runs/test', name='exp', exist_ok=False, no_trace=False, v5_metric=False)\n",
      "YOLOR 🚀 2024-3-2 torch 2.2.1 CPU\n",
      "\n",
      "Fusing layers... \n",
      "IDetect.fuse\n",
      "/Library/Frameworks/Python.framework/Versions/3.11/lib/python3.11/site-packages/torch/functional.py:507: UserWarning: torch.meshgrid: in an upcoming release, it will be required to pass the indexing argument. (Triggered internally at /Users/runner/work/pytorch/pytorch/pytorch/aten/src/ATen/native/TensorShape.cpp:3550.)\n",
      "  return _VF.meshgrid(tensors, **kwargs)  # type: ignore[attr-defined]\n",
      "Model Summary: 208 layers, 6061716 parameters, 0 gradients, 13.2 GFLOPS\n",
      " Convert model to Traced-model... \n",
      " traced_script_module saved! \n",
      " model is traced! \n",
      "\n",
      "\u001b[34m\u001b[1mtest: \u001b[0mScanning 'traffic_dataset/labels/test.cache' images and labels... 301 foun\u001b[0m\n",
      "               Class      Images      Labels           P           R      mAP@.5\n",
      "                 all         301        2131       0.863       0.593       0.663       0.464\n",
      "        army vehicle         301           2       0.834           1       0.995       0.896\n",
      "             bicycle         301          31       0.823       0.613       0.649       0.376\n",
      "                 bus         301         229       0.909       0.764       0.857       0.632\n",
      "                 car         301         534       0.872       0.891       0.924       0.681\n",
      "          garbagevan         301           1           1           0           0           0\n",
      "        human hauler         301          18       0.886       0.433       0.499       0.326\n",
      "             minibus         301           8       0.601         0.5       0.534       0.308\n",
      "             minivan         301          78       0.716       0.679       0.785       0.556\n",
      "           motorbike         301         225       0.895       0.758       0.834       0.478\n",
      "              pickup         301          65       0.878       0.831       0.876       0.621\n",
      "           policecar         301           4           1           0       0.049      0.0441\n",
      "            rickshaw         301         270       0.838       0.711       0.798       0.459\n",
      "                 suv         301         146       0.848       0.767       0.844       0.655\n",
      "                taxi         301           4           1           0       0.261       0.209\n",
      "three wheelers -CNG-         301         307       0.905       0.762       0.857       0.557\n",
      "               truck         301         121       0.825       0.835       0.872       0.544\n",
      "                 van         301          76       0.828       0.711        0.79       0.632\n",
      "         wheelbarrow         301          12       0.873       0.417       0.508       0.372\n",
      "Speed: 161.7/0.6/162.3 ms inference/NMS/total per 640x640 image at batch-size 32\n",
      "Results saved to runs/test/exp17\n"
     ]
    }
   ],
   "source": [
    "!python3 test.py --weights epoch_099.pt --task test --data data/traffic.yaml"
   ]
  },
  {
   "cell_type": "code",
   "execution_count": 82,
   "metadata": {},
   "outputs": [
    {
     "name": "stdout",
     "output_type": "stream",
     "text": [
      "Namespace(weights=['epoch_000.pt'], data='data/traffic.yaml', batch_size=32, img_size=640, conf_thres=0.001, iou_thres=0.65, task='test', device='', single_cls=False, augment=False, verbose=False, save_txt=False, save_hybrid=False, save_conf=False, save_json=False, project='runs/test', name='exp', exist_ok=False, no_trace=False, v5_metric=False)\n",
      "YOLOR 🚀 2024-3-2 torch 2.2.1 CPU\n",
      "\n",
      "Fusing layers... \n",
      "IDetect.fuse\n",
      "/Library/Frameworks/Python.framework/Versions/3.11/lib/python3.11/site-packages/torch/functional.py:507: UserWarning: torch.meshgrid: in an upcoming release, it will be required to pass the indexing argument. (Triggered internally at /Users/runner/work/pytorch/pytorch/pytorch/aten/src/ATen/native/TensorShape.cpp:3550.)\n",
      "  return _VF.meshgrid(tensors, **kwargs)  # type: ignore[attr-defined]\n",
      "Model Summary: 208 layers, 6061716 parameters, 0 gradients, 13.2 GFLOPS\n",
      " Convert model to Traced-model... \n",
      " traced_script_module saved! \n",
      " model is traced! \n",
      "\n",
      "\u001b[34m\u001b[1mtest: \u001b[0mScanning 'traffic_dataset/labels/test.cache' images and labels... 301 foun\u001b[0m\n",
      "               Class      Images      Labels           P           R      mAP@.5\n",
      "                 all         301        2131      0.0705      0.0389     0.00928      0.0023\n",
      "        army vehicle         301           2           0           0           0           0\n",
      "             bicycle         301          31           0           0           0           0\n",
      "                 bus         301         229      0.0324      0.0262      0.0132     0.00303\n",
      "                 car         301         534       0.154       0.491       0.131      0.0338\n",
      "          garbagevan         301           1           1           0           0           0\n",
      "        human hauler         301          18           0           0    0.000197    5.67e-05\n",
      "             minibus         301           8           0           0    0.000781    0.000364\n",
      "             minivan         301          78           0           0    0.000818    0.000155\n",
      "           motorbike         301         225      0.0174      0.0844     0.00507     0.00081\n",
      "              pickup         301          65           0           0     0.00113    0.000338\n",
      "           policecar         301           4           0           0           0           0\n",
      "            rickshaw         301         270      0.0116      0.0296     0.00171    0.000295\n",
      "                 suv         301         146           0           0     0.00121     0.00021\n",
      "                taxi         301           4           0           0           0           0\n",
      "three wheelers -CNG-         301         307     0.00609     0.00651      0.0034      0.0008\n",
      "               truck         301         121       0.043      0.0496     0.00728     0.00129\n",
      "                 van         301          76     0.00362      0.0132     0.00154    0.000285\n",
      "         wheelbarrow         301          12           0           0           0           0\n",
      "Speed: 158.4/7.1/165.5 ms inference/NMS/total per 640x640 image at batch-size 32\n",
      "Results saved to runs/test/exp18\n"
     ]
    }
   ],
   "source": [
    "!python3 test.py --weights epoch_000.pt --task test --data data/traffic.yaml"
   ]
  },
  {
   "cell_type": "code",
   "execution_count": 62,
   "metadata": {},
   "outputs": [
    {
     "name": "stdout",
     "output_type": "stream",
     "text": [
      "Namespace(weights=['best_mine.pt'], data='data/traffic.yaml', batch_size=32, img_size=640, conf_thres=0.001, iou_thres=0.65, task='test', device='', single_cls=False, augment=False, verbose=False, save_txt=False, save_hybrid=False, save_conf=False, save_json=False, project='runs/test', name='exp', exist_ok=False, no_trace=False, v5_metric=False)\n",
      "YOLOR 🚀 2024-3-2 torch 2.2.1 CPU\n",
      "\n",
      "Fusing layers... \n",
      "IDetect.fuse\n",
      "/Library/Frameworks/Python.framework/Versions/3.11/lib/python3.11/site-packages/torch/functional.py:507: UserWarning: torch.meshgrid: in an upcoming release, it will be required to pass the indexing argument. (Triggered internally at /Users/runner/work/pytorch/pytorch/pytorch/aten/src/ATen/native/TensorShape.cpp:3550.)\n",
      "  return _VF.meshgrid(tensors, **kwargs)  # type: ignore[attr-defined]\n",
      "Model Summary: 208 layers, 6061716 parameters, 0 gradients, 13.2 GFLOPS\n",
      " Convert model to Traced-model... \n",
      " traced_script_module saved! \n",
      " model is traced! \n",
      "\n",
      "\u001b[34m\u001b[1mtest: \u001b[0mScanning 'traffic_dataset/labels/test.cache' images and labels... 301 foun\u001b[0m\n",
      "               Class      Images      Labels           P           R      mAP@.5\n",
      "                 all         301        2131       0.678       0.359       0.342       0.194\n",
      "        army vehicle         301           2           1           0      0.0153      0.0117\n",
      "             bicycle         301          31       0.465        0.29       0.263       0.119\n",
      "                 bus         301         229       0.719       0.703       0.748       0.457\n",
      "                 car         301         534       0.375       0.946       0.801       0.494\n",
      "          garbagevan         301           1           1           0           0           0\n",
      "        human hauler         301          18           1           0     0.00977     0.00758\n",
      "             minibus         301           8       0.993       0.125       0.158       0.106\n",
      "             minivan         301          78       0.283       0.303       0.222       0.141\n",
      "           motorbike         301         225       0.503       0.764       0.666       0.322\n",
      "              pickup         301          65       0.439         0.4       0.421       0.265\n",
      "           policecar         301           4           1           0    0.000798    0.000558\n",
      "            rickshaw         301         270       0.486       0.719       0.657       0.312\n",
      "                 suv         301         146       0.357       0.383       0.313        0.19\n",
      "                taxi         301           4           1           0     0.00194     0.00117\n",
      "three wheelers -CNG-         301         307       0.662       0.726       0.746       0.433\n",
      "               truck         301         121       0.622       0.727       0.763       0.401\n",
      "                 van         301          76       0.294       0.368       0.348       0.209\n",
      "         wheelbarrow         301          12           1           0      0.0218      0.0167\n",
      "Speed: 214.0/8.1/222.1 ms inference/NMS/total per 640x640 image at batch-size 32\n",
      "Results saved to runs/test/exp13\n"
     ]
    }
   ],
   "source": [
    "!python3 test.py --weights best_mine.pt --task test --data data/traffic.yaml"
   ]
  }
 ],
 "metadata": {
  "kernelspec": {
   "display_name": "Python 3",
   "language": "python",
   "name": "python3"
  },
  "language_info": {
   "codemirror_mode": {
    "name": "ipython",
    "version": 3
   },
   "file_extension": ".py",
   "mimetype": "text/x-python",
   "name": "python",
   "nbconvert_exporter": "python",
   "pygments_lexer": "ipython3",
   "version": "3.11.0"
  }
 },
 "nbformat": 4,
 "nbformat_minor": 2
}
